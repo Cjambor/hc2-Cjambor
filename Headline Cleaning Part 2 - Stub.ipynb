{
 "cells": [
  {
   "cell_type": "markdown",
   "metadata": {},
   "source": [
    "# Headline Cleaning Part 2: Tidying the Data\n",
    "## An incomplete notebook to get you started. \n",
    "---\n",
    "The purpose of this file is to get you started on the full headline cleaning challenge.\n",
    "\n",
    "---\n",
    "\n",
    "Now that we're familiar with the headline data, we're ready to _really_ clean this data up.\n",
    "\n",
    "In this workbook, we're going to make two output files. Here's what should go in them:\n",
    "* `clean_headlines.txt`: This should be a tab-delimited text file with a column for the paper, the date (in `YYYY-MM-DD` format), and the text of the headline. \n",
    "* `headline_word_count.txt`: This file should be tab-delimited with columns for the paper, the date (same format as above), each word the paper used on that date, and the count of those words. The words are defined as alphanumeric characters separated by whitespace from other characters, should have punctuation removed, and should be cast to lowercase. For example, \"Mr. Bean\" would be two words, \"mr\" and \"bean\". \n",
    "\n",
    "Let's work through an example so you can see what I mean. Here's a list of the headlines for the _Missoulian_ for 2015-09-23:\n",
    "* After EWU air raid, Bobcats switch focus to Cal Poly option\n",
    "* Alternative art gallery FrontierSpace to hold annual art auction\n",
    "* Does state gets passing grade for education funding? Group aims to find out\n",
    "* Fall films have issues\n",
    "* Family in need after Bonner fire destroyed home, killed cat\n",
    "* Headwaters Dance Company's \"last hurrah\" concerts are next week\n",
    "* Montana coaching tree gathers for fundraiser\n",
    "* Mountain Line to detour Saturday due to UM Homecoming Parade\n",
    "* Rabid bat found at picnic area north of Helena\n",
    "* Ravalli County attorney's daughter jailed in sibling assault\n",
    "* Search continues today for missing Kalispell bow hunter\n",
    "* Tester to escort Pope Francis to House chambers\n",
    "\n",
    "In `clean_headlines.txt` we'd expect to see a row that looks like this:\n",
    "Missoulian    2015-09-23    After EWU air raid, Bobcats switch focus to Cal Poly option\n",
    "\n",
    "In `headline_word_count.txt` we'd expect to see a row that looks like this:\n",
    "Missoulian    2015-09-23    after    2\n",
    "\n",
    "(Note that the gaps between fields should be a tab.)\n"
   ]
  },
  {
   "cell_type": "code",
   "execution_count": null,
   "metadata": {
    "collapsed": true
   },
   "outputs": [],
   "source": [
    "from collections import defaultdict\n",
    "from pprint import pprint\n",
    "from string import punctuation\n",
    "\n",
    "\n",
    "working_dir =  \"C:\\\\Users\\\\jchan\\\\Dropbox\\\\Teaching\\\\AppliedDataAnalytics\\\\Code\\\\headline-cleaning\\\\\"\n",
    "\n",
    "input_files = [\"missoula.txt\",\"sidney.txt\",\"butte.txt\",\"bozeman.txt\",\"billings.txt\"]\n",
    "paper_names = [\"Missoulian\",\"Sidney Herald\",\"Montana Standard\",\"Bozeman Daily Chronicle\",\"Billings Gazette\"]"
   ]
  },
  {
   "cell_type": "markdown",
   "metadata": {},
   "source": [
    "Let's open up one of these files and see what we have. "
   ]
  },
  {
   "cell_type": "code",
   "execution_count": null,
   "metadata": {
    "collapsed": false
   },
   "outputs": [],
   "source": [
    "this_input = input_files[0]\n",
    "\n",
    "with open(working_dir + this_input) as infile :\n",
    "    for idx,row in enumerate(infile.readlines()) :\n",
    "        print(row)\n",
    "        if idx > 2 :\n",
    "            break"
   ]
  },
  {
   "cell_type": "markdown",
   "metadata": {},
   "source": [
    "Still a mess. I'm going to write a function that takes the paper in and builds a well-formatted date from these ugly dates. \n",
    "\n",
    "First, I'm just going to read in all the dates and keep them in order so that I can see what's going on. This step could be done in Excel too."
   ]
  },
  {
   "cell_type": "code",
   "execution_count": null,
   "metadata": {
    "collapsed": false
   },
   "outputs": [],
   "source": [
    "dates = defaultdict(list) # paper keying a list of dates\n",
    "\n",
    "for this_input in input_files : # notice, by not hardcoding the input file I can quickly wrap the above cell in a `for`\n",
    "    with open(working_dir + this_input,'r',encoding=\"Latin-1\") as infile :\n",
    "        \n",
    "        these_dates = infile.readline().strip().split(\"\\t\")\n",
    "        paper = paper_names[input_files.index(this_input)] # note the use of index here. \n",
    "        \n",
    "        dates[paper] = these_dates\n"
   ]
  },
  {
   "cell_type": "code",
   "execution_count": null,
   "metadata": {
    "collapsed": false
   },
   "outputs": [],
   "source": [
    "# Now I'm going to print the paper and the dates in \"clean\" fashion \n",
    "# to try to figure out where the 2015/2016 break is for each paper.\n",
    "for paper in dates :\n",
    "    print(paper + \" : \" + \" \".join(dates[paper]))\n",
    "    print(\"\\n\\n\")\n",
    "    "
   ]
  },
  {
   "cell_type": "markdown",
   "metadata": {},
   "source": [
    "Okay, now we're in a position to write a function that takes an ugly date and makes a pretty one. We're going to need the paper as an input into the function. I've put a stub here as well as a set of `assert` statements you can use to test your code."
   ]
  },
  {
   "cell_type": "code",
   "execution_count": null,
   "metadata": {
    "collapsed": true
   },
   "outputs": [],
   "source": [
    "def reformat_date(ugly_date, the_paper) :\n",
    "    '''\n",
    "        Takes as input a date of the form \"D-MMM\" and returns a date of the form\n",
    "        \"YYYY-MM-DD\". Note that we have to do some work on years. Dates in Oct, Nov,\n",
    "        Dec are *almost* all 2015. \n",
    "        \n",
    "        For every paper other than Bozeman Daily Chronicle, dates in a year\n",
    "        later than 21-Sep are in 2015. For BZN, 28-Sep and 5-Oct are in 2016.\n",
    "    '''\n",
    "    # Here's where you'll put your code to handle the formatting of \n",
    "    # ugly dates into pretty dates. \n",
    "    pass\n",
    "    "
   ]
  },
  {
   "cell_type": "code",
   "execution_count": null,
   "metadata": {
    "collapsed": false
   },
   "outputs": [],
   "source": [
    "# Lots of testing here to make sure I've got what I expect.\n",
    "assert(\"2015-09-23\" == reformat_date(\"23-Sep\",\"Missoulian\"))\n",
    "assert(\"2015-09-30\" == reformat_date(\"30-Sep\",\"Missoulian\"))\n",
    "assert(\"2015-12-23\" == reformat_date(\"23-Dec\",\"Missoulian\"))\n",
    "assert(\"2016-01-06\" == reformat_date(\"6-Jan\",\"Missoulian\"))\n",
    "assert(\"2016-03-09\" == reformat_date(\"9-Mar\",\"Missoulian\"))\n",
    "assert(\"2016-06-01\" == reformat_date(\"1-Jun\",\"Missoulian\"))\n",
    "assert(\"2016-09-21\" == reformat_date(\"21-Sep\",\"Missoulian\"))\n",
    "\n",
    "assert(\"2015-09-22\" == reformat_date(\"22-Sep\",\"Sidney Herald\"))\n",
    "assert(\"2015-09-30\" == reformat_date(\"30-Sep\",\"Sidney Herald\"))\n",
    "assert(\"2016-06-01\" == reformat_date(\"1-Jun\",\"Sidney Herald\"))\n",
    "assert(\"2016-09-21\" == reformat_date(\"21-Sep\",\"Sidney Herald\"))\n",
    "\n",
    "assert(\"2015-09-22\" == reformat_date(\"22-Sep\",\"Montana Standard\"))\n",
    "assert(\"2015-09-30\" == reformat_date(\"30-Sep\",\"Montana Standard\"))\n",
    "assert(\"2015-10-28\" == reformat_date(\"28-Oct\",\"Montana Standard\"))\n",
    "assert(\"2016-06-01\" == reformat_date(\"1-Jun\",\"Montana Standard\"))\n",
    "assert(\"2016-09-21\" == reformat_date(\"21-Sep\",\"Montana Standard\"))\n",
    "\n",
    "assert(\"2015-09-22\" == reformat_date(\"22-Sep\",\"Billings Gazette\"))\n",
    "assert(\"2015-09-30\" == reformat_date(\"30-Sep\",\"Billings Gazette\"))\n",
    "assert(\"2015-10-28\" == reformat_date(\"28-Oct\",\"Billings Gazette\"))\n",
    "assert(\"2016-06-01\" == reformat_date(\"1-Jun\",\"Billings Gazette\"))\n",
    "assert(\"2016-09-21\" == reformat_date(\"21-Sep\",\"Billings Gazette\"))\n",
    "\n",
    "# Bozeman: Standard ones plus special cases\n",
    "assert(\"2015-09-23\" == reformat_date(\"23-Sep\",\"Bozeman Daily Chronicle\"))\n",
    "assert(\"2015-09-30\" == reformat_date(\"30-Sep\",\"Bozeman Daily Chronicle\"))\n",
    "assert(\"2015-10-28\" == reformat_date(\"28-Oct\",\"Bozeman Daily Chronicle\"))\n",
    "assert(\"2016-06-01\" == reformat_date(\"1-Jun\",\"Bozeman Daily Chronicle\"))\n",
    "assert(\"2016-09-21\" == reformat_date(\"21-Sep\",\"Bozeman Daily Chronicle\"))\n",
    "\n",
    "assert(\"2016-09-21\" == reformat_date(\"21-Sep\",\"Bozeman Daily Chronicle\"))\n",
    "assert(\"2016-09-28\" == reformat_date(\"28-Sep\",\"Bozeman Daily Chronicle\"))\n",
    "assert(\"2016-10-05\" == reformat_date(\"5-Oct\",\"Bozeman Daily Chronicle\"))"
   ]
  },
  {
   "cell_type": "markdown",
   "metadata": {},
   "source": [
    "---\n",
    "\n",
    "Okay, now it's time for you to shine. Write some code that loops through the files and creates our first output file. This file should have a column for newspaper, date, and the headline. "
   ]
  },
  {
   "cell_type": "code",
   "execution_count": null,
   "metadata": {
    "collapsed": true
   },
   "outputs": [],
   "source": [
    "# Code for creating the first output file can start here."
   ]
  },
  {
   "cell_type": "code",
   "execution_count": null,
   "metadata": {
    "collapsed": true
   },
   "outputs": [],
   "source": [
    "# Here's a place to put code that writes out the data to `clean_headlines.txt`"
   ]
  },
  {
   "cell_type": "markdown",
   "metadata": {},
   "source": [
    "---\n",
    "Having done that, we want to create the second output file, which does word counts by paper and date. Our lives may be easier if we start by writing a function that takes a headline as input and returns a list of the words in that headline with punctuation removed and everything in lowercase. For reasons that are unclear to me, I'm just giving you my function that does this. Let me know if you have any questions."
   ]
  },
  {
   "cell_type": "code",
   "execution_count": null,
   "metadata": {
    "collapsed": true
   },
   "outputs": [],
   "source": [
    "def clean_headline(hl) :\n",
    "    ''' Removes punctuation, changes to lowercase, and splits on whitespace.\n",
    "        Returns a list of the words in a headline'''\n",
    "    \n",
    "    # Let's define our excluded characters. \n",
    "    excluded_chars = set(punctuation)\n",
    "    excluded_chars.add((\"`\",\"‘\",\"’\")) # some chars missed by `punctuation`\n",
    "\n",
    "    # now, take the headline, cast it to lower, remove the punctuation characters\n",
    "    # and return a list of words. \n",
    "    hl = hl.lower()\n",
    "    hl = ''.join([ch for ch in hl if ch not in excluded_chars])\n",
    "    return(hl.split())\n"
   ]
  },
  {
   "cell_type": "code",
   "execution_count": null,
   "metadata": {
    "collapsed": false
   },
   "outputs": [],
   "source": [
    "# And, as always, let's test.\n",
    "assert(clean_headline(\"A headline test.\") == ['a','headline','test'])\n",
    "assert(clean_headline(\"Moar testin'.\") == ['moar','testin'])\n",
    "assert(clean_headline(\"Bobcats' woes.\") == ['bobcats','woes'])"
   ]
  },
  {
   "cell_type": "markdown",
   "metadata": {},
   "source": [
    "Now take the headlines, split them into words, and record the counts by paper, date, and word. "
   ]
  },
  {
   "cell_type": "code",
   "execution_count": null,
   "metadata": {
    "collapsed": true
   },
   "outputs": [],
   "source": [
    "# your code for building the word count data can go here."
   ]
  },
  {
   "cell_type": "code",
   "execution_count": null,
   "metadata": {
    "collapsed": true
   },
   "outputs": [],
   "source": [
    "# Here's a place to put code that writes out the data to `headline_word_count.txt`"
   ]
  }
 ],
 "metadata": {
  "kernelspec": {
   "display_name": "Python 3",
   "language": "python",
   "name": "python3"
  },
  "language_info": {
   "codemirror_mode": {
    "name": "ipython",
    "version": 3
   },
   "file_extension": ".py",
   "mimetype": "text/x-python",
   "name": "python",
   "nbconvert_exporter": "python",
   "pygments_lexer": "ipython3",
   "version": "3.6.2"
  }
 },
 "nbformat": 4,
 "nbformat_minor": 0
}
