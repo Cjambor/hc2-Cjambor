{
 "cells": [
  {
   "cell_type": "markdown",
   "metadata": {},
   "source": [
    "# Headline Cleaning Part 1 - Stub\n",
    "\n",
    "This exercise was discussed in class. This code should get you started reading the files into Python.\n",
    "\n",
    "---\n",
    "\n",
    "Our goal in this phase is to read in one of the headline files, produce a list of the dates, turn them into dates that look like `YYYY-MM-DD`, and get a count of words in the file. "
   ]
  },
  {
   "cell_type": "code",
   "execution_count": null,
   "metadata": {
    "collapsed": true
   },
   "outputs": [],
   "source": [
    "working_dir = \"C:\\\\Users\\\\jchan\\\\Dropbox\\\\Teaching\\\\AppliedDataAnalytics\\\\Code\\\\headline-cleaning\\\\\"\n",
    "input_file = \"missoula.txt\" # Feel free to use a different one"
   ]
  },
  {
   "cell_type": "markdown",
   "metadata": {},
   "source": [
    "Let's open up one of these files and see what we have. "
   ]
  },
  {
   "cell_type": "code",
   "execution_count": null,
   "metadata": {
    "collapsed": false
   },
   "outputs": [],
   "source": [
    "with open(working_dir + input_file,'r',encoding=\"Latin-1\") as infile :\n",
    "    for idx,row in enumerate(infile.readlines()) :\n",
    "        print(row)\n",
    "        if idx == 1 :\n",
    "            break"
   ]
  },
  {
   "cell_type": "markdown",
   "metadata": {},
   "source": [
    "Okay, this is a mess. The first row has all the dates, the subsequent rows have headlines with many blanks put in. Let's start by getting all the dates, which are on the first row."
   ]
  },
  {
   "cell_type": "code",
   "execution_count": null,
   "metadata": {
    "collapsed": false
   },
   "outputs": [],
   "source": [
    "with open(working_dir + input_file) as infile :\n",
    "    dates = infile.readline().strip().split(\"\\t\")\n",
    "\n",
    "dates[:5]"
   ]
  },
  {
   "cell_type": "markdown",
   "metadata": {},
   "source": [
    "An irksome formulation of dates. There are fancy ways to solve this, but I used a simple way. I'm going to just make a lookup dictionary to map the month to the month number. I'm leaving this here in case it's useful to you."
   ]
  },
  {
   "cell_type": "code",
   "execution_count": null,
   "metadata": {
    "collapsed": false
   },
   "outputs": [],
   "source": [
    "month_abbr = [\"Jan\",\"Feb\",\"Mar\",\"Apr\",\"May\",\"Jun\",\"Jul\",\"Aug\",\"Sep\",\"Oct\",\"Nov\",\"Dec\"]\n",
    "month_num = [n+1 for n in range(12)]\n",
    "month_str = [\"{:02d}\".format(n) for n in month_num]\n",
    "\n",
    "month_lu = dict(zip(month_abbr,month_str))"
   ]
  },
  {
   "cell_type": "code",
   "execution_count": null,
   "metadata": {
    "collapsed": false
   },
   "outputs": [],
   "source": [
    "clean_dates = []\n",
    "for date in dates :\n",
    "    d,m = date.split(\"-\")\n",
    "    \n",
    "    # Here's you need to put code that \n",
    "    # ultimately created something like \n",
    "    # 2016-09-03 to append to clean dates\n",
    "    \n"
   ]
  },
  {
   "cell_type": "markdown",
   "metadata": {},
   "source": [
    "I could test this with something like:"
   ]
  },
  {
   "cell_type": "code",
   "execution_count": null,
   "metadata": {
    "collapsed": true
   },
   "outputs": [],
   "source": [
    "dict(zip(dates,clean_dates))"
   ]
  },
  {
   "cell_type": "markdown",
   "metadata": {},
   "source": [
    "Now we want to count all the words in file. There are a lot of ways to do this. The stub I'm going to leave you uses `dict`, but you could also easily use `defaultdict` or `Counter`. "
   ]
  },
  {
   "cell_type": "code",
   "execution_count": null,
   "metadata": {
    "collapsed": false
   },
   "outputs": [],
   "source": [
    "dict_counter = {}\n",
    "\n",
    "with open(working_dir + input_file) as infile :\n",
    "    next(infile) # skip the first row--the dates\n",
    "\n",
    "    for line in infile.readlines() :\n",
    "        # Code goes here to fill the dictionary up with words and counts.\n",
    "        # something like \n",
    "        # dict_counter[word] += 1\n",
    "        # is probably the way to go.\n",
    "        \n",
    "        "
   ]
  },
  {
   "cell_type": "code",
   "execution_count": null,
   "metadata": {
    "collapsed": false
   },
   "outputs": [],
   "source": [
    "# Let's do a little testing of this one\n",
    "print(dict_counter[\"the\"])\n",
    "print(dict_counter[\"The\"])\n",
    "print(dict_counter[\"Griz\"])"
   ]
  }
 ],
 "metadata": {
  "kernelspec": {
   "display_name": "Python 3",
   "language": "python",
   "name": "python3"
  },
  "language_info": {
   "codemirror_mode": {
    "name": "ipython",
    "version": 3
   },
   "file_extension": ".py",
   "mimetype": "text/x-python",
   "name": "python",
   "nbconvert_exporter": "python",
   "pygments_lexer": "ipython3",
   "version": "3.6.2"
  }
 },
 "nbformat": 4,
 "nbformat_minor": 0
}
